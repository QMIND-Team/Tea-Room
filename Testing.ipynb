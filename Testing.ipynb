{
 "cells": [
  {
   "cell_type": "code",
   "execution_count": null,
   "metadata": {},
   "outputs": [],
   "source": [
    "def import_clean_data(file_path):\n",
    "    # Combine the date and time columns to one\n",
    "    df = pd.read_csv(file_path, parse_dates=[[\"Date\", \"Time\"]])\n",
    "    # Remove Columns that are not useful to us\n",
    "    df.drop([\"Time Zone\", \"Transaction ID\", \"Payment ID\", \"Device Name\", \"Details\", \"Location\", \"Dining Option\",\n",
    "             \"Customer ID\", \"Customer Name\", \"Customer Reference ID\"], axis=1, inplace=True)\n",
    "    # Remove the Refunds\n",
    "    df = df[df.Category != \"None\"]\n",
    "    # Convert columns to appropriate types\n",
    "    # Dollar columns to floats using regex to remove dollar sign\n",
    "    dollar_column = df[df.columns[7:11]].replace('[$]', '', regex=True)\n",
    "    # Update df with proper dollar columns\n",
    "    df.update(dollar_column)\n",
    "    # Change the dollar columns to float type\n",
    "    df[[\"Gross Sales\", \"Discounts\", \"Net Sales\", \"Tax\"]] = df[[\"Gross Sales\", \"Discounts\", \"Net Sales\", \"Tax\"]]\\\n",
    "        .apply(pd.to_numeric)\n",
    "\n",
    "    return df"
   ]
  },
  {
   "cell_type": "code",
   "execution_count": null,
   "metadata": {},
   "outputs": [],
   "source": [
    "import pandas as pd\n",
    "\n",
    "# Options to make pd easier to read from print\n",
    "pd.options.display.max_columns = 999\n",
    "pd.options.display.max_rows = 999\n",
    "pd.options.display.width = 900"
   ]
  },
  {
   "cell_type": "code",
   "execution_count": null,
   "metadata": {},
   "outputs": [],
   "source": [
    "data = import_clean_data(\"Tea Room/2017-2018/item_sales.csv\")\n",
    "print(data.describe())\n",
    "print(data.head(10))"
   ]
  },
  {
   "cell_type": "code",
   "execution_count": null,
   "metadata": {},
   "outputs": [],
   "source": [
    "def demand(df):\n",
    "    #TODO Only include coffee sales as those are the only orders the express line can handle\n",
    "    \n",
    "    # Group All of the rows by weekday, hour, and minute, returns a groupBy object which is a collection of data frames\n",
    "    # weekday: 0 = monday, 1 = tuesday, ... 6 = sunday\n",
    "    grouped = df.groupby([df[\"Date_Time\"].dt.weekday.rename('Day_of_Week'), df[\"Date_Time\"].dt.hour.rename('Hour'), \n",
    "                          df[\"Date_Time\"].dt.minute.rename('Minute')])\n",
    "    \n",
    "    # Get the number of days in the data frame\n",
    "    num_days = len(df[\"Date_Time\"].dt.normalize().unique())\n",
    "    \n",
    "    # Get how many orders are placed on that day of the week, at that time, at that minute\n",
    "    num_occurrences = grouped.size().to_frame('Number of Orders').reset_index()\n",
    "    # Get Average Number of orders on that day and time\n",
    "    num_occurrences['Average Number of Orders'] = num_occurrences['Number of Orders'].apply(lambda x: x/num_days)\n",
    "    \n",
    "    return num_occurrences"
   ]
  },
  {
   "cell_type": "code",
   "execution_count": null,
   "metadata": {},
   "outputs": [],
   "source": [
    "def overwhelmed(orders_per_hour):\n",
    "    df = demand(data)\n",
    "    \n",
    "    # Find times where average number of orders is greater than what we can handle\n",
    "    busy_times = df['Average Number of Orders'] > orders_per_hour\n",
    "    \n",
    "    print(df[busy_times])\n",
    "    \n",
    "    \n",
    "overwhelmed(.5)"
   ]
  },
  {
   "cell_type": "code",
   "execution_count": null,
   "metadata": {},
   "outputs": [],
   "source": [
    "## TODO Find a way to plot data\n",
    "def graph_df(data):\n",
    "    %matplotlib inline\n",
    "    import matplotlib.pyplot as plt\n",
    "    \n",
    "    occurrences = demand(data)\n",
    "    print(occurrences)\n",
    "\n",
    "    #occurrences.plot(y='num_occurences', x=['Hour','Minute'], figsize=(20,10))\n",
    "\n",
    "\n",
    "#graph_df(data)"
   ]
  },
  {
   "cell_type": "code",
   "execution_count": null,
   "metadata": {},
   "outputs": [],
   "source": []
  }
 ],
 "metadata": {
  "kernelspec": {
   "display_name": "Python 3",
   "language": "python",
   "name": "python3"
  },
  "language_info": {
   "codemirror_mode": {
    "name": "ipython",
    "version": 3
   },
   "file_extension": ".py",
   "mimetype": "text/x-python",
   "name": "python",
   "nbconvert_exporter": "python",
   "pygments_lexer": "ipython3",
   "version": "3.7.1"
  }
 },
 "nbformat": 4,
 "nbformat_minor": 1
}
