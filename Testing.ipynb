{
 "cells": [
  {
   "cell_type": "code",
   "execution_count": 2,
   "metadata": {
    "collapsed": true
   },
   "outputs": [],
   "source": [
    "import pandas as pd\n",
    "\n",
    "# Options to make pd easier to read from print\n",
    "pd.options.display.max_columns = 999\n",
    "pd.options.display.max_rows = 999\n",
    "pd.options.display.width = 900"
   ]
  },
  {
   "cell_type": "code",
   "execution_count": 3,
   "metadata": {},
   "outputs": [],
   "source": [
    "def import_clean_data(file_path):\n",
    "    # Combine the date and time columns to one\n",
    "    df = pd.read_csv(file_path, parse_dates=[[\"Date\", \"Time\"]])\n",
    "    # Remove Columns that are not useful to us\n",
    "    df.drop([\"Time Zone\", \"Transaction ID\", \"Payment ID\", \"Device Name\", \"Details\", \"Location\", \"Dining Option\",\n",
    "             \"Customer ID\", \"Customer Name\", \"Customer Reference ID\"], axis=1, inplace=True)\n",
    "    # Remove the Refunds\n",
    "    df = df[df.Category != \"None\"]\n",
    "    # Convert columns to appropriate types\n",
    "    # Dollar columns to floats using regex to remove dollar sign\n",
    "    dollar_column = df[df.columns[7:11]].replace('[$]', '', regex=True)\n",
    "    # Update df with proper dollar columns\n",
    "    df.update(dollar_column)\n",
    "    # Change the dollar columns to float type\n",
    "    df[[\"Gross Sales\", \"Discounts\", \"Net Sales\", \"Tax\"]] = df[[\"Gross Sales\", \"Discounts\", \"Net Sales\", \"Tax\"]]\\\n",
    "        .apply(pd.to_numeric)\n",
    "\n",
    "    return df"
   ]
  },
  {
   "cell_type": "code",
   "execution_count": null,
   "metadata": {},
   "outputs": [],
   "source": []
  },
  {
   "cell_type": "code",
   "execution_count": 4,
   "metadata": {},
   "outputs": [
    {
     "name": "stdout",
     "output_type": "stream",
     "text": [
      ""
     ]
    }
   ],
   "source": [
    "data = import_clean_data(\"Tea Room/2017-2018/item_sales.csv\")\n",
    "print(data.describe())\n",
    "print(data.head(2000))"
   ]
  }
 ],
 "metadata": {
  "kernelspec": {
   "display_name": "Python 2",
   "language": "python",
   "name": "python2"
  },
  "language_info": {
   "codemirror_mode": {
    "name": "ipython",
    "version": 2
   },
   "file_extension": ".py",
   "mimetype": "text/x-python",
   "name": "python",
   "nbconvert_exporter": "python",
   "pygments_lexer": "ipython2",
   "version": "2.7.6"
  }
 },
 "nbformat": 4,
 "nbformat_minor": 0
}
